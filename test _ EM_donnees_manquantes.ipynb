{
 "cells": [
  {
   "cell_type": "code",
   "execution_count": 47,
   "id": "93ffcc53",
   "metadata": {},
   "outputs": [],
   "source": [
    "import numpy as np\n",
    "import pandas as pd\n",
    "import scipy\n",
    "from functools import reduce\n",
    "import seaborn as sns\n",
    "import missingno as msno\n",
    "from datetime import datetime\n",
    "import matplotlib.pyplot as plt\n",
    "%matplotlib inline\n"
   ]
  },
  {
   "cell_type": "code",
   "execution_count": 2,
   "id": "9b122ac2",
   "metadata": {
    "scrolled": false
   },
   "outputs": [
    {
     "data": {
      "text/plain": [
       "[<matplotlib.lines.Line2D at 0x7fb50b38b220>]"
      ]
     },
     "execution_count": 2,
     "metadata": {},
     "output_type": "execute_result"
    },
    {
     "data": {
      "image/png": "[encoded data removed]",
      "text/plain": [
       "<Figure size 640x480 with 1 Axes>"
      ]
     },
     "metadata": {},
     "output_type": "display_data"
    }
   ],
   "source": [
    "def loi_normale(x,mu = 0 ,sigma = 1):\n",
    "    return scipy.stats.norm.pdf(x,loc = mu, scale=sigma)\n",
    "\n",
    "x = np.arange(-10,10,0.1)\n",
    "y = loi_normale(x)\n",
    "plt.plot(x,y)\n",
    "\n"
   ]
  },
  {
   "cell_type": "code",
   "execution_count": 3,
   "id": "baeed548",
   "metadata": {},
   "outputs": [],
   "source": [
    "indicators = pd.read_csv(\"data/indicators.csv\", sep = \";\")\n"
   ]
  },
  {
   "cell_type": "code",
   "execution_count": 4,
   "id": "60fc0e1c",
   "metadata": {},
   "outputs": [
    {
     "data": {
      "text/html": [
       "<div>\n",
       "<style scoped>\n",
       "    .dataframe tbody tr th:only-of-type {\n",
       "        vertical-align: middle;\n",
       "    }\n",
       "\n",
       "    .dataframe tbody tr th {\n",
       "        vertical-align: top;\n",
       "    }\n",
       "\n",
       "    .dataframe thead th {\n",
       "        text-align: right;\n",
       "    }\n",
       "</style>\n",
       "<table border=\"1\" class=\"dataframe\">\n",
       "  <thead>\n",
       "    <tr style=\"text-align: right;\">\n",
       "      <th></th>\n",
       "      <th>ID_CLIENT</th>\n",
       "      <th>BALANCE</th>\n",
       "      <th>NB_PRODUITS</th>\n",
       "      <th>CARTE_CREDIT</th>\n",
       "      <th>SALAIRE</th>\n",
       "      <th>SCORE_CREDIT</th>\n",
       "      <th>CHURN</th>\n",
       "    </tr>\n",
       "  </thead>\n",
       "  <tbody>\n",
       "    <tr>\n",
       "      <th>0</th>\n",
       "      <td>15688172</td>\n",
       "      <td>0.00</td>\n",
       "      <td>2</td>\n",
       "      <td>Yes</td>\n",
       "      <td>88947.56</td>\n",
       "      <td>677.0</td>\n",
       "      <td>No</td>\n",
       "    </tr>\n",
       "    <tr>\n",
       "      <th>1</th>\n",
       "      <td>15787258</td>\n",
       "      <td>0.00</td>\n",
       "      <td>14</td>\n",
       "      <td>Yes</td>\n",
       "      <td>NaN</td>\n",
       "      <td>NaN</td>\n",
       "      <td>No</td>\n",
       "    </tr>\n",
       "    <tr>\n",
       "      <th>2</th>\n",
       "      <td>15791700</td>\n",
       "      <td>118079.47</td>\n",
       "      <td>4</td>\n",
       "      <td>Yes</td>\n",
       "      <td>143007.49</td>\n",
       "      <td>773.0</td>\n",
       "      <td>Yes</td>\n",
       "    </tr>\n",
       "    <tr>\n",
       "      <th>3</th>\n",
       "      <td>15569438</td>\n",
       "      <td>106702.94</td>\n",
       "      <td>2</td>\n",
       "      <td>No</td>\n",
       "      <td>198313.69</td>\n",
       "      <td>607.0</td>\n",
       "      <td>No</td>\n",
       "    </tr>\n",
       "    <tr>\n",
       "      <th>4</th>\n",
       "      <td>15778947</td>\n",
       "      <td>0.00</td>\n",
       "      <td>2</td>\n",
       "      <td>Yes</td>\n",
       "      <td>8742.91</td>\n",
       "      <td>628.0</td>\n",
       "      <td>No</td>\n",
       "    </tr>\n",
       "  </tbody>\n",
       "</table>\n",
       "</div>"
      ],
      "text/plain": [
       "   ID_CLIENT    BALANCE  NB_PRODUITS CARTE_CREDIT    SALAIRE  SCORE_CREDIT  \\\n",
       "0   15688172       0.00            2          Yes   88947.56         677.0   \n",
       "1   15787258       0.00           14          Yes        NaN           NaN   \n",
       "2   15791700  118079.47            4          Yes  143007.49         773.0   \n",
       "3   15569438  106702.94            2           No  198313.69         607.0   \n",
       "4   15778947       0.00            2          Yes    8742.91         628.0   \n",
       "\n",
       "  CHURN  \n",
       "0    No  \n",
       "1    No  \n",
       "2   Yes  \n",
       "3    No  \n",
       "4    No  "
      ]
     },
     "execution_count": 4,
     "metadata": {},
     "output_type": "execute_result"
    }
   ],
   "source": [
    "indicators.head()"
   ]
  },
  {
   "cell_type": "code",
   "execution_count": 5,
   "id": "1f6103f1",
   "metadata": {},
   "outputs": [],
   "source": [
    "df_b = indicators[\"BALANCE\"]"
   ]
  },
  {
   "cell_type": "code",
   "execution_count": 6,
   "id": "b4ef0535",
   "metadata": {},
   "outputs": [],
   "source": [
    "df_b.replace(0, np.nan, inplace = True)"
   ]
  },
  {
   "cell_type": "code",
   "execution_count": 7,
   "id": "a7db042e",
   "metadata": {},
   "outputs": [
    {
     "data": {
      "text/plain": [
       "3615"
      ]
     },
     "execution_count": 7,
     "metadata": {},
     "output_type": "execute_result"
    }
   ],
   "source": [
    "df_b.isna().sum()"
   ]
  },
  {
   "cell_type": "code",
   "execution_count": 8,
   "id": "55778da0",
   "metadata": {},
   "outputs": [],
   "source": [
    "df_b.dropna(inplace = True)"
   ]
  },
  {
   "cell_type": "code",
   "execution_count": 9,
   "id": "f510dc64",
   "metadata": {},
   "outputs": [
    {
     "data": {
      "text/plain": [
       "count      6335.000000\n",
       "mean     119857.355416\n",
       "std       30089.774988\n",
       "min        3768.690000\n",
       "25%      100250.795000\n",
       "50%      119912.460000\n",
       "75%      139531.135000\n",
       "max      250898.090000\n",
       "Name: BALANCE, dtype: float64"
      ]
     },
     "execution_count": 9,
     "metadata": {},
     "output_type": "execute_result"
    }
   ],
   "source": [
    "df_b.describe()"
   ]
  },
  {
   "cell_type": "code",
   "execution_count": 10,
   "id": "40503f70",
   "metadata": {},
   "outputs": [],
   "source": [
    "df_b = df_b.sort_values()"
   ]
  },
  {
   "cell_type": "code",
   "execution_count": 22,
   "id": "10892044",
   "metadata": {},
   "outputs": [
    {
     "data": {
      "text/plain": [
       "[<matplotlib.lines.Line2D at 0x7fb502e26d40>]"
      ]
     },
     "execution_count": 22,
     "metadata": {},
     "output_type": "execute_result"
    },
    {
     "data": {
      "image/png": "[encoded data removed]",
      "text/plain": [
       "<Figure size 640x480 with 1 Axes>"
      ]
     },
     "metadata": {},
     "output_type": "display_data"
    }
   ],
   "source": [
    "\n",
    "y = loi_normale(df_b, df_b.mean(), df_b.std())\n",
    "plt.plot(df_b,y)\n"
   ]
  },
  {
   "cell_type": "code",
   "execution_count": 11,
   "id": "0ba66aac",
   "metadata": {},
   "outputs": [],
   "source": [
    "def vraisemblance(data, sigma):\n",
    "    L = []\n",
    "    for x in data:\n",
    "        y =  loi_normale(x,mu = data.mean(), sigma = sigma)\n",
    "        L.append(y)\n",
    "    return np.prod(L)  \n",
    "\n",
    "def log_vraissemblance(data, sigma):\n",
    "    L = []\n",
    "    for x in data:\n",
    "        y =  loi_normale(x,mu = data.mean(), sigma = sigma)\n",
    "        L.append(np.log(y))\n",
    "    return np.sum(L)  \n",
    "\n"
   ]
  },
  {
   "cell_type": "code",
   "execution_count": 12,
   "id": "4aca77b0",
   "metadata": {},
   "outputs": [
    {
     "data": {
      "text/plain": [
       "<AxesSubplot:>"
      ]
     },
     "execution_count": 12,
     "metadata": {},
     "output_type": "execute_result"
    },
    {
     "data": {
      "image/png": "[encoded data removed]",
      "text/plain": [
       "<Figure size 640x480 with 1 Axes>"
      ]
     },
     "metadata": {},
     "output_type": "display_data"
    }
   ],
   "source": [
    "df_b.hist()"
   ]
  },
  {
   "cell_type": "code",
   "execution_count": 13,
   "id": "708261e8",
   "metadata": {},
   "outputs": [
    {
     "data": {
      "text/plain": [
       "[<matplotlib.lines.Line2D at 0x7fb50921df60>]"
      ]
     },
     "execution_count": 13,
     "metadata": {},
     "output_type": "execute_result"
    },
    {
     "data": {
      "image/png": "[encoded data removed]",
      "text/plain": [
       "<Figure size 640x480 with 1 Axes>"
      ]
     },
     "metadata": {},
     "output_type": "display_data"
    }
   ],
   "source": [
    "x = np.arange(30000,31000, 10)\n",
    "y = []\n",
    "for sigma in x:\n",
    "    y.append(log_vraissemblance(df_b,sigma))\n",
    "\n",
    "plt.plot(x,y)\n"
   ]
  },
  {
   "cell_type": "code",
   "execution_count": 14,
   "id": "4771e6d9",
   "metadata": {},
   "outputs": [],
   "source": [
    "df_vraisemblance =  pd.DataFrame({\"x\":x,\"y\":y})"
   ]
  },
  {
   "cell_type": "code",
   "execution_count": 15,
   "id": "00684506",
   "metadata": {},
   "outputs": [
    {
     "data": {
      "text/html": [
       "<div>\n",
       "<style scoped>\n",
       "    .dataframe tbody tr th:only-of-type {\n",
       "        vertical-align: middle;\n",
       "    }\n",
       "\n",
       "    .dataframe tbody tr th {\n",
       "        vertical-align: top;\n",
       "    }\n",
       "\n",
       "    .dataframe thead th {\n",
       "        text-align: right;\n",
       "    }\n",
       "</style>\n",
       "<table border=\"1\" class=\"dataframe\">\n",
       "  <thead>\n",
       "    <tr style=\"text-align: right;\">\n",
       "      <th></th>\n",
       "      <th>x</th>\n",
       "      <th>y</th>\n",
       "    </tr>\n",
       "  </thead>\n",
       "  <tbody>\n",
       "    <tr>\n",
       "      <th>0</th>\n",
       "      <td>30000</td>\n",
       "      <td>-74314.673566</td>\n",
       "    </tr>\n",
       "    <tr>\n",
       "      <th>1</th>\n",
       "      <td>30010</td>\n",
       "      <td>-74314.661954</td>\n",
       "    </tr>\n",
       "    <tr>\n",
       "      <th>2</th>\n",
       "      <td>30020</td>\n",
       "      <td>-74314.651759</td>\n",
       "    </tr>\n",
       "    <tr>\n",
       "      <th>3</th>\n",
       "      <td>30030</td>\n",
       "      <td>-74314.642980</td>\n",
       "    </tr>\n",
       "    <tr>\n",
       "      <th>4</th>\n",
       "      <td>30040</td>\n",
       "      <td>-74314.635614</td>\n",
       "    </tr>\n",
       "    <tr>\n",
       "      <th>...</th>\n",
       "      <td>...</td>\n",
       "      <td>...</td>\n",
       "    </tr>\n",
       "    <tr>\n",
       "      <th>95</th>\n",
       "      <td>30950</td>\n",
       "      <td>-74319.587440</td>\n",
       "    </tr>\n",
       "    <tr>\n",
       "      <th>96</th>\n",
       "      <td>30960</td>\n",
       "      <td>-74319.700551</td>\n",
       "    </tr>\n",
       "    <tr>\n",
       "      <th>97</th>\n",
       "      <td>30970</td>\n",
       "      <td>-74319.814874</td>\n",
       "    </tr>\n",
       "    <tr>\n",
       "      <th>98</th>\n",
       "      <td>30980</td>\n",
       "      <td>-74319.930406</td>\n",
       "    </tr>\n",
       "    <tr>\n",
       "      <th>99</th>\n",
       "      <td>30990</td>\n",
       "      <td>-74320.047146</td>\n",
       "    </tr>\n",
       "  </tbody>\n",
       "</table>\n",
       "<p>100 rows × 2 columns</p>\n",
       "</div>"
      ],
      "text/plain": [
       "        x             y\n",
       "0   30000 -74314.673566\n",
       "1   30010 -74314.661954\n",
       "2   30020 -74314.651759\n",
       "3   30030 -74314.642980\n",
       "4   30040 -74314.635614\n",
       "..    ...           ...\n",
       "95  30950 -74319.587440\n",
       "96  30960 -74319.700551\n",
       "97  30970 -74319.814874\n",
       "98  30980 -74319.930406\n",
       "99  30990 -74320.047146\n",
       "\n",
       "[100 rows x 2 columns]"
      ]
     },
     "execution_count": 15,
     "metadata": {},
     "output_type": "execute_result"
    }
   ],
   "source": [
    "df_vraisemblance"
   ]
  },
  {
   "cell_type": "code",
   "execution_count": 16,
   "id": "bb1c644c",
   "metadata": {},
   "outputs": [
    {
     "data": {
      "text/plain": [
       "x    30090.000000\n",
       "y   -74314.619897\n",
       "Name: 9, dtype: float64"
      ]
     },
     "execution_count": 16,
     "metadata": {},
     "output_type": "execute_result"
    }
   ],
   "source": [
    "df_vraisemblance.iloc[df_vraisemblance[\"y\"].idxmax()] #max de vraisemblance"
   ]
  },
  {
   "cell_type": "code",
   "execution_count": 24,
   "id": "acd998d9",
   "metadata": {},
   "outputs": [
    {
     "data": {
      "text/plain": [
       "ID_CLIENT          0\n",
       "BALANCE         3615\n",
       "NB_PRODUITS        0\n",
       "CARTE_CREDIT       0\n",
       "SALAIRE          229\n",
       "SCORE_CREDIT     559\n",
       "CHURN              0\n",
       "dtype: int64"
      ]
     },
     "execution_count": 24,
     "metadata": {},
     "output_type": "execute_result"
    }
   ],
   "source": [
    "indicators.isna().sum()"
   ]
  },
  {
   "cell_type": "code",
   "execution_count": 28,
   "id": "a5ec5201",
   "metadata": {},
   "outputs": [],
   "source": [
    "df_missing = indicators[[\"BALANCE\",\"SALAIRE\",\"SCORE_CREDIT\"]]"
   ]
  },
  {
   "cell_type": "code",
   "execution_count": 26,
   "id": "92b35c9d",
   "metadata": {},
   "outputs": [
    {
     "data": {
      "text/html": [
       "<div>\n",
       "<style scoped>\n",
       "    .dataframe tbody tr th:only-of-type {\n",
       "        vertical-align: middle;\n",
       "    }\n",
       "\n",
       "    .dataframe tbody tr th {\n",
       "        vertical-align: top;\n",
       "    }\n",
       "\n",
       "    .dataframe thead th {\n",
       "        text-align: right;\n",
       "    }\n",
       "</style>\n",
       "<table border=\"1\" class=\"dataframe\">\n",
       "  <thead>\n",
       "    <tr style=\"text-align: right;\">\n",
       "      <th></th>\n",
       "      <th>BALANCE</th>\n",
       "      <th>SALAIRE</th>\n",
       "      <th>SCORE_CREDIT</th>\n",
       "    </tr>\n",
       "  </thead>\n",
       "  <tbody>\n",
       "    <tr>\n",
       "      <th>0</th>\n",
       "      <td>NaN</td>\n",
       "      <td>88947.56</td>\n",
       "      <td>677.0</td>\n",
       "    </tr>\n",
       "    <tr>\n",
       "      <th>1</th>\n",
       "      <td>NaN</td>\n",
       "      <td>NaN</td>\n",
       "      <td>NaN</td>\n",
       "    </tr>\n",
       "    <tr>\n",
       "      <th>2</th>\n",
       "      <td>118079.47</td>\n",
       "      <td>143007.49</td>\n",
       "      <td>773.0</td>\n",
       "    </tr>\n",
       "    <tr>\n",
       "      <th>3</th>\n",
       "      <td>106702.94</td>\n",
       "      <td>198313.69</td>\n",
       "      <td>607.0</td>\n",
       "    </tr>\n",
       "    <tr>\n",
       "      <th>4</th>\n",
       "      <td>NaN</td>\n",
       "      <td>8742.91</td>\n",
       "      <td>628.0</td>\n",
       "    </tr>\n",
       "  </tbody>\n",
       "</table>\n",
       "</div>"
      ],
      "text/plain": [
       "     BALANCE    SALAIRE  SCORE_CREDIT\n",
       "0        NaN   88947.56         677.0\n",
       "1        NaN        NaN           NaN\n",
       "2  118079.47  143007.49         773.0\n",
       "3  106702.94  198313.69         607.0\n",
       "4        NaN    8742.91         628.0"
      ]
     },
     "execution_count": 26,
     "metadata": {},
     "output_type": "execute_result"
    }
   ],
   "source": [
    "df_missing.head()"
   ]
  },
  {
   "cell_type": "code",
   "execution_count": 42,
   "id": "35156fc7",
   "metadata": {},
   "outputs": [],
   "source": [
    "X = df_missing.to_numpy()"
   ]
  },
  {
   "cell_type": "code",
   "execution_count": 43,
   "id": "a8e660f0",
   "metadata": {},
   "outputs": [
    {
     "data": {
      "text/plain": [
       "array([[      nan,  88947.56,    677.  ],\n",
       "       [      nan,       nan,       nan],\n",
       "       [118079.47, 143007.49,    773.  ],\n",
       "       ...,\n",
       "       [      nan,  22303.17,    759.  ],\n",
       "       [      nan, 136610.02,    689.  ],\n",
       "       [127414.55, 134459.12,    802.  ]])"
      ]
     },
     "execution_count": 43,
     "metadata": {},
     "output_type": "execute_result"
    }
   ],
   "source": [
    "X"
   ]
  },
  {
   "cell_type": "code",
   "execution_count": 30,
   "id": "fd9f6fc4",
   "metadata": {},
   "outputs": [],
   "source": [
    "cov_matrix = np.cov(df_missing.dropna(),rowvar=False)"
   ]
  },
  {
   "cell_type": "code",
   "execution_count": 33,
   "id": "6ce02469",
   "metadata": {},
   "outputs": [],
   "source": [
    "mu_mean = df_missing.mean().to_list()"
   ]
  },
  {
   "cell_type": "code",
   "execution_count": 34,
   "id": "db7d5cbe",
   "metadata": {},
   "outputs": [
    {
     "data": {
      "text/plain": [
       "[119857.35541594317, 100043.06715461373, 650.9906293259504]"
      ]
     },
     "execution_count": 34,
     "metadata": {},
     "output_type": "execute_result"
    }
   ],
   "source": [
    "mu_mean"
   ]
  },
  {
   "cell_type": "code",
   "execution_count": 99,
   "id": "46a82dec",
   "metadata": {},
   "outputs": [],
   "source": [
    "def impute_em(X, max_iter = 3000, eps = 1e-88):\n",
    "    '''(np.array, int, number) -> {str: np.array or int}\n",
    "    \n",
    "    Precondition: max_iter >= 1 and eps > 0\n",
    "    \n",
    "    Return the dictionary with five keys where:\n",
    "    - Key 'mu' stores the mean estimate of the imputed data.\n",
    "    - Key 'Sigma' stores the variance estimate of the imputed data.\n",
    "    - Key 'X_imputed' stores the imputed data that is mutated from X using \n",
    "      the EM algorithm.\n",
    "    - Key 'C' stores the np.array that specifies the original missing entries\n",
    "      of X.\n",
    "    - Key 'iteration' stores the number of iteration used to compute\n",
    "      'X_imputed' based on max_iter and eps specified.\n",
    "    '''\n",
    "    \n",
    "    nr, nc = X.shape\n",
    "    C = np.isnan(X) == False\n",
    "    \n",
    "    # Collect M_i and O_i's\n",
    "    one_to_nc = np.arange(1, nc + 1, step = 1)\n",
    "    M = one_to_nc * (C == False) - 1\n",
    "    O = one_to_nc * C - 1\n",
    "    \n",
    "    # Generate Mu_0 and Sigma_0\n",
    "    Mu = np.nanmean(X, axis = 0)\n",
    "    observed_rows = np.where(np.isnan(sum(X.T)) == False)[0]\n",
    "    S = np.cov(X[observed_rows, ].T)\n",
    "    if np.isnan(S).any():\n",
    "        S = np.diag(np.nanvar(X, axis = 0))\n",
    "    \n",
    "    # Start updating\n",
    "    Mu_tilde, S_tilde = {}, {}\n",
    "    X_tilde = X.copy()\n",
    "    no_conv = True\n",
    "    iteration = 0\n",
    "    while no_conv and iteration < max_iter:\n",
    "        for i in range(nr):\n",
    "            S_tilde[i] = np.zeros(nc ** 2).reshape(nc, nc)\n",
    "            if set(O[i, ]) != set(one_to_nc - 1): # missing component exists\n",
    "                M_i, O_i = M[i, ][M[i, ] != -1], O[i, ][O[i, ] != -1]\n",
    "                S_MM = S[np.ix_(M_i, M_i)]\n",
    "                S_MO = S[np.ix_(M_i, O_i)]\n",
    "                S_OM = S_MO.T\n",
    "                S_OO = S[np.ix_(O_i, O_i)]\n",
    "                Mu_tilde[i] = Mu[np.ix_(M_i)] +\\\n",
    "                    S_MO @ np.linalg.inv(S_OO) @\\\n",
    "                    (X_tilde[i, O_i] - Mu[np.ix_(O_i)])\n",
    "                X_tilde[i, M_i] = Mu_tilde[i]\n",
    "                S_MM_O = S_MM - S_MO @ np.linalg.inv(S_OO) @ S_OM\n",
    "                S_tilde[i][np.ix_(M_i, M_i)] = S_MM_O\n",
    "        Mu_new = np.mean(X_tilde, axis = 0)\n",
    "        S_new = np.cov(X_tilde.T, bias = 1) +\\\n",
    "            reduce(np.add, S_tilde.values()) / nr\n",
    "        no_conv =\\\n",
    "            np.linalg.norm(Mu - Mu_new) >= eps or\\\n",
    "            np.linalg.norm(S - S_new, ord = 2) >= eps\n",
    "        Mu = Mu_new\n",
    "        S = S_new\n",
    "        iteration += 1\n",
    "    \n",
    "    result = {\n",
    "        'mu': Mu,\n",
    "        'Sigma': S,\n",
    "        'X_imputed': X_tilde,\n",
    "        'C': C,\n",
    "        'iteration': iteration\n",
    "    }\n",
    "    \n",
    "    return result"
   ]
  },
  {
   "cell_type": "code",
   "execution_count": 100,
   "id": "5d334a85",
   "metadata": {},
   "outputs": [],
   "source": [
    "start = datetime.now()\n",
    "result_imputed = impute_em(X)\n",
    "end = datetime.now()"
   ]
  },
  {
   "cell_type": "code",
   "execution_count": 101,
   "id": "c42c354c",
   "metadata": {},
   "outputs": [
    {
     "data": {
      "text/plain": [
       "{'mu': array([119858.99301977, 100042.92165555,    650.98956877]),\n",
       " 'Sigma': array([[ 9.05251338e+08, -5.14957851e+06, -1.71046431e+04],\n",
       "        [-5.14957851e+06,  3.31237080e+09, -2.04104960e+04],\n",
       "        [-1.71046431e+04, -2.04104960e+04,  9.31233076e+03]]),\n",
       " 'X_imputed': array([[119828.50369198,  88947.56      ,    677.        ],\n",
       "        [119858.99301977, 100042.92165555,    650.98956877],\n",
       "        [118079.47      , 143007.49      ,    773.        ],\n",
       "        ...,\n",
       "        [119781.97122869,  22303.17      ,    759.        ],\n",
       "        [119731.78230789, 136610.02      ,    689.        ],\n",
       "        [127414.55      , 134459.12      ,    802.        ]]),\n",
       " 'C': array([[False,  True,  True],\n",
       "        [False, False, False],\n",
       "        [ True,  True,  True],\n",
       "        ...,\n",
       "        [False,  True,  True],\n",
       "        [False,  True,  True],\n",
       "        [ True,  True,  True]]),\n",
       " 'iteration': 36}"
      ]
     },
     "execution_count": 101,
     "metadata": {},
     "output_type": "execute_result"
    }
   ],
   "source": [
    "result_imputed"
   ]
  },
  {
   "cell_type": "code",
   "execution_count": 102,
   "id": "ad201516",
   "metadata": {},
   "outputs": [],
   "source": [
    "df_imputed = pd.DataFrame(result_imputed[\"X_imputed\"])\n"
   ]
  },
  {
   "cell_type": "code",
   "execution_count": 103,
   "id": "b3cdbbc7",
   "metadata": {},
   "outputs": [
    {
     "data": {
      "text/plain": [
       "array([[<AxesSubplot:title={'center':'0'}>,\n",
       "        <AxesSubplot:title={'center':'1'}>],\n",
       "       [<AxesSubplot:title={'center':'2'}>, <AxesSubplot:>]], dtype=object)"
      ]
     },
     "execution_count": 103,
     "metadata": {},
     "output_type": "execute_result"
    },
    {
     "data": {
      "image/png": "[encoded data removed]",
      "text/plain": [
       "<Figure size 640x480 with 4 Axes>"
      ]
     },
     "metadata": {},
     "output_type": "display_data"
    }
   ],
   "source": [
    "df_imputed.hist(density = True, bins = 30)"
   ]
  },
  {
   "cell_type": "code",
   "execution_count": 57,
   "id": "4232b2af",
   "metadata": {},
   "outputs": [
    {
     "data": {
      "text/plain": [
       "array([119858.99301977, 100042.92165555,    650.98956877])"
      ]
     },
     "execution_count": 57,
     "metadata": {},
     "output_type": "execute_result"
    }
   ],
   "source": [
    "result_imputed['mu'] # estimate using the imputed data"
   ]
  },
  {
   "cell_type": "code",
   "execution_count": 58,
   "id": "7e6adf2a",
   "metadata": {},
   "outputs": [
    {
     "data": {
      "text/plain": [
       "0    119858.993020\n",
       "1    100042.921656\n",
       "2       650.989569\n",
       "dtype: float64"
      ]
     },
     "execution_count": 58,
     "metadata": {},
     "output_type": "execute_result"
    }
   ],
   "source": [
    "df_imputed.mean()"
   ]
  },
  {
   "cell_type": "code",
   "execution_count": null,
   "id": "ced939bd",
   "metadata": {},
   "outputs": [],
   "source": []
  },
  {
   "cell_type": "code",
   "execution_count": null,
   "id": "ec70ef57",
   "metadata": {},
   "outputs": [],
   "source": []
  },
  {
   "cell_type": "code",
   "execution_count": null,
   "id": "68e778e5",
   "metadata": {},
   "outputs": [],
   "source": []
  },
  {
   "cell_type": "code",
   "execution_count": null,
   "id": "18848b98",
   "metadata": {},
   "outputs": [],
   "source": []
  },
  {
   "cell_type": "code",
   "execution_count": null,
   "id": "f347eb32",
   "metadata": {},
   "outputs": [],
   "source": []
  },
  {
   "cell_type": "code",
   "execution_count": null,
   "id": "44be31db",
   "metadata": {},
   "outputs": [],
   "source": []
  },
  {
   "cell_type": "code",
   "execution_count": null,
   "id": "f271eb30",
   "metadata": {},
   "outputs": [],
   "source": []
  },
  {
   "cell_type": "code",
   "execution_count": null,
   "id": "f9a2c646",
   "metadata": {},
   "outputs": [],
   "source": []
  },
  {
   "cell_type": "code",
   "execution_count": null,
   "id": "54599c20",
   "metadata": {},
   "outputs": [],
   "source": []
  },
  {
   "cell_type": "code",
   "execution_count": null,
   "id": "9ccf366d",
   "metadata": {},
   "outputs": [],
   "source": []
  },
  {
   "cell_type": "code",
   "execution_count": null,
   "id": "f7f062ce",
   "metadata": {},
   "outputs": [],
   "source": []
  },
  {
   "cell_type": "code",
   "execution_count": null,
   "id": "648c0f3f",
   "metadata": {},
   "outputs": [],
   "source": []
  },
  {
   "cell_type": "code",
   "execution_count": null,
   "id": "3a88b6f9",
   "metadata": {},
   "outputs": [],
   "source": []
  },
  {
   "cell_type": "code",
   "execution_count": null,
   "id": "27e07a66",
   "metadata": {},
   "outputs": [],
   "source": []
  }
 ],
 "metadata": {
  "kernelspec": {
   "display_name": "Python 3 (ipykernel)",
   "language": "python",
   "name": "python3"
  },
  "language_info": {
   "codemirror_mode": {
    "name": "ipython",
    "version": 3
   },
   "file_extension": ".py",
   "mimetype": "text/x-python",
   "name": "python",
   "nbconvert_exporter": "python",
   "pygments_lexer": "ipython3",
   "version": "3.10.6"
  }
 },
 "nbformat": 4,
 "nbformat_minor": 5
}
