{
 "cells": [
  {
   "cell_type": "code",
   "execution_count": 1,
   "id": "f96648fa",
   "metadata": {},
   "outputs": [],
   "source": [
    "import pandas as pd\n",
    "import numpy as np\n",
    "import matplotlib.pyplot as plt\n",
    "np.random.seed(42)\n",
    "%matplotlib inline"
   ]
  },
  {
   "cell_type": "code",
   "execution_count": 2,
   "id": "179f042f",
   "metadata": {},
   "outputs": [],
   "source": [
    "import sys\n",
    "sys.path.append(\"..\")"
   ]
  },
  {
   "cell_type": "code",
   "execution_count": 3,
   "id": "4f219834",
   "metadata": {},
   "outputs": [],
   "source": [
    "from interpret import show\n",
    "from skopt import BayesSearchCV"
   ]
  },
  {
   "cell_type": "markdown",
   "id": "b6bfa384",
   "metadata": {},
   "source": [
    "### Load train dataset"
   ]
  },
  {
   "cell_type": "code",
   "execution_count": 4,
   "id": "4799e837",
   "metadata": {},
   "outputs": [],
   "source": [
    "from churn.domain.domain_utils import get_train_test_split\n",
    "X_train, X_test, y_train, y_test = get_train_test_split()"
   ]
  },
  {
   "cell_type": "markdown",
   "id": "eac308c7",
   "metadata": {},
   "source": [
    "### Model selection"
   ]
  },
  {
   "cell_type": "code",
   "execution_count": 5,
   "id": "41beb4c9",
   "metadata": {},
   "outputs": [],
   "source": [
    "from sklearn.ensemble import RandomForestClassifier\n",
    "from sklearn.tree import DecisionTreeClassifier\n",
    "from interpret.glassbox import ExplainableBoostingClassifier\n",
    "from sklearn.pipeline import Pipeline\n",
    "from churn.domain.bank_customers_dataset import FeaturesDataset\n",
    "from churn.domain.churn_model import ChurnModelSelection"
   ]
  },
  {
   "cell_type": "code",
   "execution_count": 6,
   "id": "9fc84d32",
   "metadata": {},
   "outputs": [],
   "source": [
    "model_list = {\n",
    "    \"decision tree\": ChurnModelSelection(pipe=Pipeline([('features', FeaturesDataset()),\n",
    "                                                        ('classifier', DecisionTreeClassifier())])),\n",
    "    \"random forest\": ChurnModelSelection(pipe=Pipeline([('features', FeaturesDataset()),\n",
    "                                                        ('classifier', RandomForestClassifier())])),\n",
    "    \"explained boosting\": ChurnModelSelection(pipe=Pipeline([('features', FeaturesDataset()),\n",
    "                                                            ('classifier', ExplainableBoostingClassifier())])),\n",
    "}"
   ]
  },
  {
   "cell_type": "markdown",
   "id": "df4882de",
   "metadata": {},
   "source": [
    "##### retrieve search params"
   ]
  },
  {
   "cell_type": "code",
   "execution_count": 7,
   "id": "987defeb",
   "metadata": {},
   "outputs": [],
   "source": [
    "from churn.domain.domain_utils import return_models_from_all_model_params, find_model_params_from_model_name\n",
    "from churn.config.config import transform_to_object"
   ]
  },
  {
   "cell_type": "code",
   "execution_count": 8,
   "id": "1278178e",
   "metadata": {},
   "outputs": [],
   "source": [
    "def get_model_params_search(model):\n",
    "    \"\"\"Return a dict representing param search\"\"\"\n",
    "    all_models_param = transform_to_object(\"../churn/config/config_template.yml\",\"grid_search_params\")\n",
    "    params = find_model_params_from_model_name(all_models_param, model.__class__.__name__+\"()\")\n",
    "    params.pop('pipe__classifier')\n",
    "    return params\n",
    "\n",
    "model_params = {\n",
    "    model_id:get_model_params_search(model.pipe['classifier']) for model_id, model in model_list.items()\n",
    "}"
   ]
  },
  {
   "cell_type": "code",
   "execution_count": 9,
   "id": "7449871f",
   "metadata": {},
   "outputs": [
    {
     "data": {
      "text/plain": [
       "{'decision tree': {'pipe__classifier__criterion': ['gini', 'entropy'],\n",
       "  'pipe__classifier__max_depth': (1, 10),\n",
       "  'pipe__classifier__min_samples_split': (2, 10),\n",
       "  'pipe__classifier__min_samples_leaf': (1, 5),\n",
       "  'pipe__features__imputer__balance_imputation': ['none', 'median', 'mean'],\n",
       "  'pipe__features__imputer__balance_zero': [True, False]},\n",
       " 'random forest': {'pipe__classifier__bootstrap': [True, False],\n",
       "  'pipe__classifier__max_depth': (10, 100),\n",
       "  'pipe__classifier__max_features': [2, 3],\n",
       "  'pipe__classifier__min_samples_leaf': (2, 50),\n",
       "  'pipe__classifier__min_samples_split': (5, 15),\n",
       "  'pipe__classifier__n_estimators': [500, 1000, 1500],\n",
       "  'pipe__features__imputer__balance_imputation': ['none', 'median', 'mean'],\n",
       "  'pipe__features__imputer__balance_zero': [True, False]},\n",
       " 'explained boosting': {'pipe__classifier__binning': ['uniform',\n",
       "   'quantile',\n",
       "   'quantile_humanized'],\n",
       "  'pipe__classifier__outer_bags': (2, 10),\n",
       "  'pipe__classifier__learning_rate': (0.005, 0.5, 'log-uniform'),\n",
       "  'pipe__classifier__min_samples_leaf': (2, 10),\n",
       "  'pipe__classifier__early_stopping_tolerance': (0.0001, 0.1, 'log-uniform'),\n",
       "  'pipe__features__imputer__balance_imputation': ['none', 'median', 'mean'],\n",
       "  'pipe__features__imputer__balance_zero': [True, False]}}"
      ]
     },
     "execution_count": 9,
     "metadata": {},
     "output_type": "execute_result"
    }
   ],
   "source": [
    "model_params"
   ]
  },
  {
   "cell_type": "markdown",
   "id": "f9db454d",
   "metadata": {},
   "source": [
    "##### bayesian search"
   ]
  },
  {
   "cell_type": "code",
   "execution_count": 10,
   "id": "6ca33956",
   "metadata": {
    "scrolled": true
   },
   "outputs": [
    {
     "name": "stdout",
     "output_type": "stream",
     "text": [
      "Fitting decision tree\n",
      "Fitting 3 folds for each of 1 candidates, totalling 3 fits\n",
      "Fitting 3 folds for each of 1 candidates, totalling 3 fits\n",
      "Fitting 3 folds for each of 1 candidates, totalling 3 fits\n",
      "Fitting 3 folds for each of 1 candidates, totalling 3 fits\n",
      "Fitting 3 folds for each of 1 candidates, totalling 3 fits\n",
      "Fitting 3 folds for each of 1 candidates, totalling 3 fits\n",
      "Fitting 3 folds for each of 1 candidates, totalling 3 fits\n",
      "Fitting 3 folds for each of 1 candidates, totalling 3 fits\n",
      "Fitting 3 folds for each of 1 candidates, totalling 3 fits\n",
      "Fitting 3 folds for each of 1 candidates, totalling 3 fits\n",
      "Fitting 3 folds for each of 1 candidates, totalling 3 fits\n",
      "Fitting 3 folds for each of 1 candidates, totalling 3 fits\n",
      "Fitting 3 folds for each of 1 candidates, totalling 3 fits\n",
      "Fitting 3 folds for each of 1 candidates, totalling 3 fits\n",
      "Fitting 3 folds for each of 1 candidates, totalling 3 fits\n",
      "Fitting 3 folds for each of 1 candidates, totalling 3 fits\n",
      "Fitting 3 folds for each of 1 candidates, totalling 3 fits\n",
      "Fitting 3 folds for each of 1 candidates, totalling 3 fits\n",
      "Fitting 3 folds for each of 1 candidates, totalling 3 fits\n",
      "Fitting 3 folds for each of 1 candidates, totalling 3 fits\n",
      "Fitting 3 folds for each of 1 candidates, totalling 3 fits\n",
      "Fitting 3 folds for each of 1 candidates, totalling 3 fits\n",
      "Fitting 3 folds for each of 1 candidates, totalling 3 fits\n",
      "Fitting 3 folds for each of 1 candidates, totalling 3 fits\n",
      "Fitting 3 folds for each of 1 candidates, totalling 3 fits\n",
      "Fitting 3 folds for each of 1 candidates, totalling 3 fits\n",
      "Fitting 3 folds for each of 1 candidates, totalling 3 fits\n",
      "Fitting 3 folds for each of 1 candidates, totalling 3 fits\n",
      "Fitting 3 folds for each of 1 candidates, totalling 3 fits\n"
     ]
    },
    {
     "name": "stderr",
     "output_type": "stream",
     "text": [
      "/Users/charlesprat/miniconda3/lib/python3.9/site-packages/skopt/optimizer/optimizer.py:449: UserWarning: The objective has been evaluated at this point before.\n",
      "  warnings.warn(\"The objective has been evaluated \"\n"
     ]
    },
    {
     "name": "stdout",
     "output_type": "stream",
     "text": [
      "Fitting 3 folds for each of 1 candidates, totalling 3 fits\n",
      "Fitting 3 folds for each of 1 candidates, totalling 3 fits\n"
     ]
    },
    {
     "name": "stderr",
     "output_type": "stream",
     "text": [
      "/Users/charlesprat/miniconda3/lib/python3.9/site-packages/skopt/optimizer/optimizer.py:449: UserWarning: The objective has been evaluated at this point before.\n",
      "  warnings.warn(\"The objective has been evaluated \"\n"
     ]
    },
    {
     "name": "stdout",
     "output_type": "stream",
     "text": [
      "Fitting 3 folds for each of 1 candidates, totalling 3 fits\n",
      "Fitting 3 folds for each of 1 candidates, totalling 3 fits\n"
     ]
    },
    {
     "name": "stderr",
     "output_type": "stream",
     "text": [
      "/Users/charlesprat/miniconda3/lib/python3.9/site-packages/skopt/optimizer/optimizer.py:449: UserWarning: The objective has been evaluated at this point before.\n",
      "  warnings.warn(\"The objective has been evaluated \"\n"
     ]
    },
    {
     "name": "stdout",
     "output_type": "stream",
     "text": [
      "Fitting 3 folds for each of 1 candidates, totalling 3 fits\n",
      "Fitting 3 folds for each of 1 candidates, totalling 3 fits\n",
      "Fitting 3 folds for each of 1 candidates, totalling 3 fits\n",
      "Fitting 3 folds for each of 1 candidates, totalling 3 fits\n",
      "Fitting 3 folds for each of 1 candidates, totalling 3 fits\n"
     ]
    },
    {
     "name": "stderr",
     "output_type": "stream",
     "text": [
      "/Users/charlesprat/miniconda3/lib/python3.9/site-packages/skopt/optimizer/optimizer.py:449: UserWarning: The objective has been evaluated at this point before.\n",
      "  warnings.warn(\"The objective has been evaluated \"\n"
     ]
    },
    {
     "name": "stdout",
     "output_type": "stream",
     "text": [
      "Fitting 3 folds for each of 1 candidates, totalling 3 fits\n",
      "Fitting 3 folds for each of 1 candidates, totalling 3 fits\n"
     ]
    },
    {
     "name": "stderr",
     "output_type": "stream",
     "text": [
      "/Users/charlesprat/miniconda3/lib/python3.9/site-packages/skopt/optimizer/optimizer.py:449: UserWarning: The objective has been evaluated at this point before.\n",
      "  warnings.warn(\"The objective has been evaluated \"\n"
     ]
    },
    {
     "name": "stdout",
     "output_type": "stream",
     "text": [
      "Fitting 3 folds for each of 1 candidates, totalling 3 fits\n"
     ]
    },
    {
     "name": "stderr",
     "output_type": "stream",
     "text": [
      "/Users/charlesprat/miniconda3/lib/python3.9/site-packages/skopt/optimizer/optimizer.py:449: UserWarning: The objective has been evaluated at this point before.\n",
      "  warnings.warn(\"The objective has been evaluated \"\n"
     ]
    },
    {
     "name": "stdout",
     "output_type": "stream",
     "text": [
      "Fitting 3 folds for each of 1 candidates, totalling 3 fits\n",
      "Fitting 3 folds for each of 1 candidates, totalling 3 fits\n"
     ]
    },
    {
     "name": "stderr",
     "output_type": "stream",
     "text": [
      "/Users/charlesprat/miniconda3/lib/python3.9/site-packages/skopt/optimizer/optimizer.py:449: UserWarning: The objective has been evaluated at this point before.\n",
      "  warnings.warn(\"The objective has been evaluated \"\n"
     ]
    },
    {
     "name": "stdout",
     "output_type": "stream",
     "text": [
      "Fitting 3 folds for each of 1 candidates, totalling 3 fits\n",
      "Fitting 3 folds for each of 1 candidates, totalling 3 fits\n",
      "Fitting 3 folds for each of 1 candidates, totalling 3 fits\n",
      "Fitting 3 folds for each of 1 candidates, totalling 3 fits\n",
      "Fitting 3 folds for each of 1 candidates, totalling 3 fits\n",
      "Fitting 3 folds for each of 1 candidates, totalling 3 fits\n",
      "Fitting 3 folds for each of 1 candidates, totalling 3 fits\n",
      "accuracy 0.8556533091172893\n",
      "Fitting random forest\n",
      "Fitting 3 folds for each of 1 candidates, totalling 3 fits\n",
      "Fitting 3 folds for each of 1 candidates, totalling 3 fits\n",
      "Fitting 3 folds for each of 1 candidates, totalling 3 fits\n",
      "Fitting 3 folds for each of 1 candidates, totalling 3 fits\n",
      "Fitting 3 folds for each of 1 candidates, totalling 3 fits\n",
      "Fitting 3 folds for each of 1 candidates, totalling 3 fits\n",
      "Fitting 3 folds for each of 1 candidates, totalling 3 fits\n",
      "Fitting 3 folds for each of 1 candidates, totalling 3 fits\n",
      "Fitting 3 folds for each of 1 candidates, totalling 3 fits\n",
      "Fitting 3 folds for each of 1 candidates, totalling 3 fits\n",
      "Fitting 3 folds for each of 1 candidates, totalling 3 fits\n",
      "Fitting 3 folds for each of 1 candidates, totalling 3 fits\n",
      "Fitting 3 folds for each of 1 candidates, totalling 3 fits\n",
      "Fitting 3 folds for each of 1 candidates, totalling 3 fits\n",
      "Fitting 3 folds for each of 1 candidates, totalling 3 fits\n",
      "Fitting 3 folds for each of 1 candidates, totalling 3 fits\n",
      "Fitting 3 folds for each of 1 candidates, totalling 3 fits\n",
      "Fitting 3 folds for each of 1 candidates, totalling 3 fits\n",
      "Fitting 3 folds for each of 1 candidates, totalling 3 fits\n",
      "Fitting 3 folds for each of 1 candidates, totalling 3 fits\n",
      "Fitting 3 folds for each of 1 candidates, totalling 3 fits\n",
      "Fitting 3 folds for each of 1 candidates, totalling 3 fits\n",
      "Fitting 3 folds for each of 1 candidates, totalling 3 fits\n",
      "Fitting 3 folds for each of 1 candidates, totalling 3 fits\n",
      "Fitting 3 folds for each of 1 candidates, totalling 3 fits\n",
      "Fitting 3 folds for each of 1 candidates, totalling 3 fits\n",
      "Fitting 3 folds for each of 1 candidates, totalling 3 fits\n",
      "Fitting 3 folds for each of 1 candidates, totalling 3 fits\n",
      "Fitting 3 folds for each of 1 candidates, totalling 3 fits\n",
      "Fitting 3 folds for each of 1 candidates, totalling 3 fits\n",
      "Fitting 3 folds for each of 1 candidates, totalling 3 fits\n",
      "Fitting 3 folds for each of 1 candidates, totalling 3 fits\n",
      "Fitting 3 folds for each of 1 candidates, totalling 3 fits\n",
      "Fitting 3 folds for each of 1 candidates, totalling 3 fits\n",
      "Fitting 3 folds for each of 1 candidates, totalling 3 fits\n",
      "Fitting 3 folds for each of 1 candidates, totalling 3 fits\n",
      "Fitting 3 folds for each of 1 candidates, totalling 3 fits\n",
      "Fitting 3 folds for each of 1 candidates, totalling 3 fits\n",
      "Fitting 3 folds for each of 1 candidates, totalling 3 fits\n",
      "Fitting 3 folds for each of 1 candidates, totalling 3 fits\n",
      "Fitting 3 folds for each of 1 candidates, totalling 3 fits\n",
      "Fitting 3 folds for each of 1 candidates, totalling 3 fits\n",
      "Fitting 3 folds for each of 1 candidates, totalling 3 fits\n",
      "Fitting 3 folds for each of 1 candidates, totalling 3 fits\n",
      "Fitting 3 folds for each of 1 candidates, totalling 3 fits\n"
     ]
    },
    {
     "name": "stderr",
     "output_type": "stream",
     "text": [
      "/Users/charlesprat/miniconda3/lib/python3.9/site-packages/skopt/optimizer/optimizer.py:449: UserWarning: The objective has been evaluated at this point before.\n",
      "  warnings.warn(\"The objective has been evaluated \"\n"
     ]
    },
    {
     "name": "stdout",
     "output_type": "stream",
     "text": [
      "Fitting 3 folds for each of 1 candidates, totalling 3 fits\n",
      "Fitting 3 folds for each of 1 candidates, totalling 3 fits\n",
      "Fitting 3 folds for each of 1 candidates, totalling 3 fits\n",
      "Fitting 3 folds for each of 1 candidates, totalling 3 fits\n",
      "Fitting 3 folds for each of 1 candidates, totalling 3 fits\n",
      "accuracy 0.8594222954813729\n",
      "Fitting explained boosting\n",
      "Fitting 3 folds for each of 1 candidates, totalling 3 fits\n",
      "Fitting 3 folds for each of 1 candidates, totalling 3 fits\n",
      "Fitting 3 folds for each of 1 candidates, totalling 3 fits\n",
      "Fitting 3 folds for each of 1 candidates, totalling 3 fits\n",
      "Fitting 3 folds for each of 1 candidates, totalling 3 fits\n",
      "Fitting 3 folds for each of 1 candidates, totalling 3 fits\n",
      "Fitting 3 folds for each of 1 candidates, totalling 3 fits\n",
      "Fitting 3 folds for each of 1 candidates, totalling 3 fits\n",
      "Fitting 3 folds for each of 1 candidates, totalling 3 fits\n",
      "Fitting 3 folds for each of 1 candidates, totalling 3 fits\n",
      "Fitting 3 folds for each of 1 candidates, totalling 3 fits\n",
      "Fitting 3 folds for each of 1 candidates, totalling 3 fits\n",
      "Fitting 3 folds for each of 1 candidates, totalling 3 fits\n",
      "Fitting 3 folds for each of 1 candidates, totalling 3 fits\n",
      "Fitting 3 folds for each of 1 candidates, totalling 3 fits\n",
      "Fitting 3 folds for each of 1 candidates, totalling 3 fits\n",
      "Fitting 3 folds for each of 1 candidates, totalling 3 fits\n",
      "Fitting 3 folds for each of 1 candidates, totalling 3 fits\n",
      "Fitting 3 folds for each of 1 candidates, totalling 3 fits\n",
      "Fitting 3 folds for each of 1 candidates, totalling 3 fits\n",
      "Fitting 3 folds for each of 1 candidates, totalling 3 fits\n",
      "Fitting 3 folds for each of 1 candidates, totalling 3 fits\n",
      "Fitting 3 folds for each of 1 candidates, totalling 3 fits\n",
      "Fitting 3 folds for each of 1 candidates, totalling 3 fits\n",
      "Fitting 3 folds for each of 1 candidates, totalling 3 fits\n",
      "Fitting 3 folds for each of 1 candidates, totalling 3 fits\n",
      "Fitting 3 folds for each of 1 candidates, totalling 3 fits\n",
      "Fitting 3 folds for each of 1 candidates, totalling 3 fits\n",
      "Fitting 3 folds for each of 1 candidates, totalling 3 fits\n",
      "Fitting 3 folds for each of 1 candidates, totalling 3 fits\n",
      "Fitting 3 folds for each of 1 candidates, totalling 3 fits\n",
      "Fitting 3 folds for each of 1 candidates, totalling 3 fits\n",
      "Fitting 3 folds for each of 1 candidates, totalling 3 fits\n",
      "Fitting 3 folds for each of 1 candidates, totalling 3 fits\n",
      "Fitting 3 folds for each of 1 candidates, totalling 3 fits\n",
      "Fitting 3 folds for each of 1 candidates, totalling 3 fits\n",
      "Fitting 3 folds for each of 1 candidates, totalling 3 fits\n",
      "Fitting 3 folds for each of 1 candidates, totalling 3 fits\n",
      "Fitting 3 folds for each of 1 candidates, totalling 3 fits\n",
      "Fitting 3 folds for each of 1 candidates, totalling 3 fits\n",
      "Fitting 3 folds for each of 1 candidates, totalling 3 fits\n",
      "Fitting 3 folds for each of 1 candidates, totalling 3 fits\n",
      "Fitting 3 folds for each of 1 candidates, totalling 3 fits\n",
      "Fitting 3 folds for each of 1 candidates, totalling 3 fits\n",
      "Fitting 3 folds for each of 1 candidates, totalling 3 fits\n",
      "Fitting 3 folds for each of 1 candidates, totalling 3 fits\n",
      "Fitting 3 folds for each of 1 candidates, totalling 3 fits\n",
      "Fitting 3 folds for each of 1 candidates, totalling 3 fits\n",
      "Fitting 3 folds for each of 1 candidates, totalling 3 fits\n",
      "Fitting 3 folds for each of 1 candidates, totalling 3 fits\n",
      "accuracy 0.8643211776859797\n"
     ]
    }
   ],
   "source": [
    "bayes_sch = {}\n",
    "for model_id, model in model_list.items():\n",
    "    print(f\"Fitting {model_id}\")\n",
    "    opt = BayesSearchCV(\n",
    "        model,\n",
    "        model_params[model_id],\n",
    "        n_iter=50,\n",
    "        cv=3, verbose=1, n_jobs=5, \n",
    "        #scoring=\"average_precision\"\n",
    "    )\n",
    "    opt.fit(X_train, y_train)\n",
    "    best_estimator = opt.best_estimator_\n",
    "    print(f\"accuracy {opt.best_score_}\")\n",
    "    bayes_sch.update({model_id: opt})"
   ]
  },
  {
   "cell_type": "code",
   "execution_count": 11,
   "id": "4346f562",
   "metadata": {},
   "outputs": [
    {
     "data": {
      "text/plain": [
       "decision tree         0.855653\n",
       "random forest         0.859422\n",
       "explained boosting    0.864321\n",
       "dtype: float64"
      ]
     },
     "execution_count": 11,
     "metadata": {},
     "output_type": "execute_result"
    }
   ],
   "source": [
    "scores = pd.Series({model_id: model.best_score_ for model_id, model in bayes_sch.items()})\n",
    "scores"
   ]
  },
  {
   "cell_type": "code",
   "execution_count": 12,
   "id": "5f2e3756",
   "metadata": {},
   "outputs": [
    {
     "name": "stdout",
     "output_type": "stream",
     "text": [
      "Best model: explained boosting\n"
     ]
    }
   ],
   "source": [
    "print(f\"Best model: {scores.idxmax()}\")"
   ]
  },
  {
   "cell_type": "code",
   "execution_count": 13,
   "id": "3ef21bb7",
   "metadata": {},
   "outputs": [
    {
     "data": {
      "text/html": [
       "<style>#sk-container-id-1 {color: black;background-color: white;}#sk-container-id-1 pre{padding: 0;}#sk-container-id-1 div.sk-toggleable {background-color: white;}#sk-container-id-1 label.sk-toggleable__label {cursor: pointer;display: block;width: 100%;margin-bottom: 0;padding: 0.3em;box-sizing: border-box;text-align: center;}#sk-container-id-1 label.sk-toggleable__label-arrow:before {content: \"▸\";float: left;margin-right: 0.25em;color: #696969;}#sk-container-id-1 label.sk-toggleable__label-arrow:hover:before {color: black;}#sk-container-id-1 div.sk-estimator:hover label.sk-toggleable__label-arrow:before {color: black;}#sk-container-id-1 div.sk-toggleable__content {max-height: 0;max-width: 0;overflow: hidden;text-align: left;background-color: #f0f8ff;}#sk-container-id-1 div.sk-toggleable__content pre {margin: 0.2em;color: black;border-radius: 0.25em;background-color: #f0f8ff;}#sk-container-id-1 input.sk-toggleable__control:checked~div.sk-toggleable__content {max-height: 200px;max-width: 100%;overflow: auto;}#sk-container-id-1 input.sk-toggleable__control:checked~label.sk-toggleable__label-arrow:before {content: \"▾\";}#sk-container-id-1 div.sk-estimator input.sk-toggleable__control:checked~label.sk-toggleable__label {background-color: #d4ebff;}#sk-container-id-1 div.sk-label input.sk-toggleable__control:checked~label.sk-toggleable__label {background-color: #d4ebff;}#sk-container-id-1 input.sk-hidden--visually {border: 0;clip: rect(1px 1px 1px 1px);clip: rect(1px, 1px, 1px, 1px);height: 1px;margin: -1px;overflow: hidden;padding: 0;position: absolute;width: 1px;}#sk-container-id-1 div.sk-estimator {font-family: monospace;background-color: #f0f8ff;border: 1px dotted black;border-radius: 0.25em;box-sizing: border-box;margin-bottom: 0.5em;}#sk-container-id-1 div.sk-estimator:hover {background-color: #d4ebff;}#sk-container-id-1 div.sk-parallel-item::after {content: \"\";width: 100%;border-bottom: 1px solid gray;flex-grow: 1;}#sk-container-id-1 div.sk-label:hover label.sk-toggleable__label {background-color: #d4ebff;}#sk-container-id-1 div.sk-serial::before {content: \"\";position: absolute;border-left: 1px solid gray;box-sizing: border-box;top: 0;bottom: 0;left: 50%;z-index: 0;}#sk-container-id-1 div.sk-serial {display: flex;flex-direction: column;align-items: center;background-color: white;padding-right: 0.2em;padding-left: 0.2em;position: relative;}#sk-container-id-1 div.sk-item {position: relative;z-index: 1;}#sk-container-id-1 div.sk-parallel {display: flex;align-items: stretch;justify-content: center;background-color: white;position: relative;}#sk-container-id-1 div.sk-item::before, #sk-container-id-1 div.sk-parallel-item::before {content: \"\";position: absolute;border-left: 1px solid gray;box-sizing: border-box;top: 0;bottom: 0;left: 50%;z-index: -1;}#sk-container-id-1 div.sk-parallel-item {display: flex;flex-direction: column;z-index: 1;position: relative;background-color: white;}#sk-container-id-1 div.sk-parallel-item:first-child::after {align-self: flex-end;width: 50%;}#sk-container-id-1 div.sk-parallel-item:last-child::after {align-self: flex-start;width: 50%;}#sk-container-id-1 div.sk-parallel-item:only-child::after {width: 0;}#sk-container-id-1 div.sk-dashed-wrapped {border: 1px dashed gray;margin: 0 0.4em 0.5em 0.4em;box-sizing: border-box;padding-bottom: 0.4em;background-color: white;}#sk-container-id-1 div.sk-label label {font-family: monospace;font-weight: bold;display: inline-block;line-height: 1.2em;}#sk-container-id-1 div.sk-label-container {text-align: center;}#sk-container-id-1 div.sk-container {/* jupyter's `normalize.less` sets `[hidden] { display: none; }` but bootstrap.min.css set `[hidden] { display: none !important; }` so we also need the `!important` here to be able to override the default hidden behavior on the sphinx rendered scikit-learn.org. See: https://github.com/scikit-learn/scikit-learn/issues/21755 */display: inline-block !important;position: relative;}#sk-container-id-1 div.sk-text-repr-fallback {display: none;}</style><div id=\"sk-container-id-1\" class=\"sk-top-container\"><div class=\"sk-text-repr-fallback\"><pre>ChurnModelSelection(pipe=Pipeline(steps=[(&#x27;features&#x27;,\n",
       "                                          Pipeline(steps=[(&#x27;imputer&#x27;,\n",
       "                                                           FeaturesImputer(balance_imputation=&#x27;mean&#x27;, balance_zero=True)),\n",
       "                                                          (&#x27;col_transform&#x27;,\n",
       "                                                           ColumnTransformer(remainder=&#x27;passthrough&#x27;,\n",
       "                                                                             transformers=[(&#x27;onehotencoder&#x27;,\n",
       "                                                                                            OneHotEncoder(handle_unknown=&#x27;ignore&#x27;),\n",
       "                                                                                            [&#x27;PAYS&#x27;]),\n",
       "                                                                                           (&#x27;drop&#x27;,\n",
       "                                                                                            &#x27;drop&#x27;,\n",
       "                                                                                            [&#x27;NOM&#x27;,\n",
       "                                                                                             &#x27;DATE_ENTREE&#x27;])]))])),\n",
       "                                         (&#x27;classifier&#x27;,\n",
       "                                          Explainable...\n",
       "                                                                        feature_types=[&#x27;categorical&#x27;,\n",
       "                                                                                       &#x27;categorical&#x27;,\n",
       "                                                                                       &#x27;categorical&#x27;,\n",
       "                                                                                       &#x27;continuous&#x27;,\n",
       "                                                                                       &#x27;continuous&#x27;,\n",
       "                                                                                       &#x27;categorical&#x27;,\n",
       "                                                                                       &#x27;continuous&#x27;,\n",
       "                                                                                       &#x27;continuous&#x27;,\n",
       "                                                                                       &#x27;categorical&#x27;,\n",
       "                                                                                       &#x27;continuous&#x27;,\n",
       "                                                                                       &#x27;categorical&#x27;,\n",
       "                                                                                       &#x27;categorical&#x27;,\n",
       "                                                                                       &#x27;interaction&#x27;,\n",
       "                                                                                       &#x27;interaction&#x27;,\n",
       "                                                                                       &#x27;interaction&#x27;,\n",
       "                                                                                       &#x27;interaction&#x27;,\n",
       "                                                                                       &#x27;interaction&#x27;,\n",
       "                                                                                       &#x27;interaction&#x27;,\n",
       "                                                                                       &#x27;interaction&#x27;,\n",
       "                                                                                       &#x27;interaction&#x27;,\n",
       "                                                                                       &#x27;interaction&#x27;,\n",
       "                                                                                       &#x27;interaction&#x27;],\n",
       "                                                                        learning_rate=0.09501688225703216,\n",
       "                                                                        outer_bags=10))]))</pre><b>In a Jupyter environment, please rerun this cell to show the HTML representation or trust the notebook. <br />On GitHub, the HTML representation is unable to render, please try loading this page with nbviewer.org.</b></div><div class=\"sk-container\" hidden><div class=\"sk-item sk-dashed-wrapped\"><div class=\"sk-label-container\"><div class=\"sk-label sk-toggleable\"><input class=\"sk-toggleable__control sk-hidden--visually\" id=\"sk-estimator-id-1\" type=\"checkbox\" ><label for=\"sk-estimator-id-1\" class=\"sk-toggleable__label sk-toggleable__label-arrow\">ChurnModelSelection</label><div class=\"sk-toggleable__content\"><pre>ChurnModelSelection(pipe=Pipeline(steps=[(&#x27;features&#x27;,\n",
       "                                          Pipeline(steps=[(&#x27;imputer&#x27;,\n",
       "                                                           FeaturesImputer(balance_imputation=&#x27;mean&#x27;, balance_zero=True)),\n",
       "                                                          (&#x27;col_transform&#x27;,\n",
       "                                                           ColumnTransformer(remainder=&#x27;passthrough&#x27;,\n",
       "                                                                             transformers=[(&#x27;onehotencoder&#x27;,\n",
       "                                                                                            OneHotEncoder(handle_unknown=&#x27;ignore&#x27;),\n",
       "                                                                                            [&#x27;PAYS&#x27;]),\n",
       "                                                                                           (&#x27;drop&#x27;,\n",
       "                                                                                            &#x27;drop&#x27;,\n",
       "                                                                                            [&#x27;NOM&#x27;,\n",
       "                                                                                             &#x27;DATE_ENTREE&#x27;])]))])),\n",
       "                                         (&#x27;classifier&#x27;,\n",
       "                                          Explainable...\n",
       "                                                                        feature_types=[&#x27;categorical&#x27;,\n",
       "                                                                                       &#x27;categorical&#x27;,\n",
       "                                                                                       &#x27;categorical&#x27;,\n",
       "                                                                                       &#x27;continuous&#x27;,\n",
       "                                                                                       &#x27;continuous&#x27;,\n",
       "                                                                                       &#x27;categorical&#x27;,\n",
       "                                                                                       &#x27;continuous&#x27;,\n",
       "                                                                                       &#x27;continuous&#x27;,\n",
       "                                                                                       &#x27;categorical&#x27;,\n",
       "                                                                                       &#x27;continuous&#x27;,\n",
       "                                                                                       &#x27;categorical&#x27;,\n",
       "                                                                                       &#x27;categorical&#x27;,\n",
       "                                                                                       &#x27;interaction&#x27;,\n",
       "                                                                                       &#x27;interaction&#x27;,\n",
       "                                                                                       &#x27;interaction&#x27;,\n",
       "                                                                                       &#x27;interaction&#x27;,\n",
       "                                                                                       &#x27;interaction&#x27;,\n",
       "                                                                                       &#x27;interaction&#x27;,\n",
       "                                                                                       &#x27;interaction&#x27;,\n",
       "                                                                                       &#x27;interaction&#x27;,\n",
       "                                                                                       &#x27;interaction&#x27;,\n",
       "                                                                                       &#x27;interaction&#x27;],\n",
       "                                                                        learning_rate=0.09501688225703216,\n",
       "                                                                        outer_bags=10))]))</pre></div></div></div><div class=\"sk-parallel\"><div class=\"sk-parallel-item\"><div class=\"sk-item\"><div class=\"sk-label-container\"><div class=\"sk-label sk-toggleable\"><input class=\"sk-toggleable__control sk-hidden--visually\" id=\"sk-estimator-id-2\" type=\"checkbox\" ><label for=\"sk-estimator-id-2\" class=\"sk-toggleable__label sk-toggleable__label-arrow\">pipe: Pipeline</label><div class=\"sk-toggleable__content\"><pre>Pipeline(steps=[(&#x27;features&#x27;,\n",
       "                 Pipeline(steps=[(&#x27;imputer&#x27;,\n",
       "                                  FeaturesImputer(balance_imputation=&#x27;mean&#x27;, balance_zero=True)),\n",
       "                                 (&#x27;col_transform&#x27;,\n",
       "                                  ColumnTransformer(remainder=&#x27;passthrough&#x27;,\n",
       "                                                    transformers=[(&#x27;onehotencoder&#x27;,\n",
       "                                                                   OneHotEncoder(handle_unknown=&#x27;ignore&#x27;),\n",
       "                                                                   [&#x27;PAYS&#x27;]),\n",
       "                                                                  (&#x27;drop&#x27;,\n",
       "                                                                   &#x27;drop&#x27;,\n",
       "                                                                   [&#x27;NOM&#x27;,\n",
       "                                                                    &#x27;DATE_ENTREE&#x27;])]))])),\n",
       "                (&#x27;classifier&#x27;,\n",
       "                 ExplainableBoostingClassifier(early_...\n",
       "                                               feature_types=[&#x27;categorical&#x27;,\n",
       "                                                              &#x27;categorical&#x27;,\n",
       "                                                              &#x27;categorical&#x27;,\n",
       "                                                              &#x27;continuous&#x27;,\n",
       "                                                              &#x27;continuous&#x27;,\n",
       "                                                              &#x27;categorical&#x27;,\n",
       "                                                              &#x27;continuous&#x27;,\n",
       "                                                              &#x27;continuous&#x27;,\n",
       "                                                              &#x27;categorical&#x27;,\n",
       "                                                              &#x27;continuous&#x27;,\n",
       "                                                              &#x27;categorical&#x27;,\n",
       "                                                              &#x27;categorical&#x27;,\n",
       "                                                              &#x27;interaction&#x27;,\n",
       "                                                              &#x27;interaction&#x27;,\n",
       "                                                              &#x27;interaction&#x27;,\n",
       "                                                              &#x27;interaction&#x27;,\n",
       "                                                              &#x27;interaction&#x27;,\n",
       "                                                              &#x27;interaction&#x27;,\n",
       "                                                              &#x27;interaction&#x27;,\n",
       "                                                              &#x27;interaction&#x27;,\n",
       "                                                              &#x27;interaction&#x27;,\n",
       "                                                              &#x27;interaction&#x27;],\n",
       "                                               learning_rate=0.09501688225703216,\n",
       "                                               outer_bags=10))])</pre></div></div></div><div class=\"sk-serial\"><div class=\"sk-item\"><div class=\"sk-serial\"><div class=\"sk-item\"><div class=\"sk-label-container\"><div class=\"sk-label sk-toggleable\"><input class=\"sk-toggleable__control sk-hidden--visually\" id=\"sk-estimator-id-3\" type=\"checkbox\" ><label for=\"sk-estimator-id-3\" class=\"sk-toggleable__label sk-toggleable__label-arrow\">features: Pipeline</label><div class=\"sk-toggleable__content\"><pre>Pipeline(steps=[(&#x27;imputer&#x27;,\n",
       "                 FeaturesImputer(balance_imputation=&#x27;mean&#x27;, balance_zero=True)),\n",
       "                (&#x27;col_transform&#x27;,\n",
       "                 ColumnTransformer(remainder=&#x27;passthrough&#x27;,\n",
       "                                   transformers=[(&#x27;onehotencoder&#x27;,\n",
       "                                                  OneHotEncoder(handle_unknown=&#x27;ignore&#x27;),\n",
       "                                                  [&#x27;PAYS&#x27;]),\n",
       "                                                 (&#x27;drop&#x27;, &#x27;drop&#x27;,\n",
       "                                                  [&#x27;NOM&#x27;, &#x27;DATE_ENTREE&#x27;])]))])</pre></div></div></div><div class=\"sk-serial\"><div class=\"sk-item\"><div class=\"sk-estimator sk-toggleable\"><input class=\"sk-toggleable__control sk-hidden--visually\" id=\"sk-estimator-id-4\" type=\"checkbox\" ><label for=\"sk-estimator-id-4\" class=\"sk-toggleable__label sk-toggleable__label-arrow\">FeaturesImputer</label><div class=\"sk-toggleable__content\"><pre>FeaturesImputer(balance_imputation=&#x27;mean&#x27;, balance_zero=True)</pre></div></div></div><div class=\"sk-item sk-dashed-wrapped\"><div class=\"sk-label-container\"><div class=\"sk-label sk-toggleable\"><input class=\"sk-toggleable__control sk-hidden--visually\" id=\"sk-estimator-id-5\" type=\"checkbox\" ><label for=\"sk-estimator-id-5\" class=\"sk-toggleable__label sk-toggleable__label-arrow\">col_transform: ColumnTransformer</label><div class=\"sk-toggleable__content\"><pre>ColumnTransformer(remainder=&#x27;passthrough&#x27;,\n",
       "                  transformers=[(&#x27;onehotencoder&#x27;,\n",
       "                                 OneHotEncoder(handle_unknown=&#x27;ignore&#x27;),\n",
       "                                 [&#x27;PAYS&#x27;]),\n",
       "                                (&#x27;drop&#x27;, &#x27;drop&#x27;, [&#x27;NOM&#x27;, &#x27;DATE_ENTREE&#x27;])])</pre></div></div></div><div class=\"sk-parallel\"><div class=\"sk-parallel-item\"><div class=\"sk-item\"><div class=\"sk-label-container\"><div class=\"sk-label sk-toggleable\"><input class=\"sk-toggleable__control sk-hidden--visually\" id=\"sk-estimator-id-6\" type=\"checkbox\" ><label for=\"sk-estimator-id-6\" class=\"sk-toggleable__label sk-toggleable__label-arrow\">onehotencoder</label><div class=\"sk-toggleable__content\"><pre>[&#x27;PAYS&#x27;]</pre></div></div></div><div class=\"sk-serial\"><div class=\"sk-item\"><div class=\"sk-estimator sk-toggleable\"><input class=\"sk-toggleable__control sk-hidden--visually\" id=\"sk-estimator-id-7\" type=\"checkbox\" ><label for=\"sk-estimator-id-7\" class=\"sk-toggleable__label sk-toggleable__label-arrow\">OneHotEncoder</label><div class=\"sk-toggleable__content\"><pre>OneHotEncoder(handle_unknown=&#x27;ignore&#x27;)</pre></div></div></div></div></div></div><div class=\"sk-parallel-item\"><div class=\"sk-item\"><div class=\"sk-label-container\"><div class=\"sk-label sk-toggleable\"><input class=\"sk-toggleable__control sk-hidden--visually\" id=\"sk-estimator-id-8\" type=\"checkbox\" ><label for=\"sk-estimator-id-8\" class=\"sk-toggleable__label sk-toggleable__label-arrow\">drop</label><div class=\"sk-toggleable__content\"><pre>[&#x27;NOM&#x27;, &#x27;DATE_ENTREE&#x27;]</pre></div></div></div><div class=\"sk-serial\"><div class=\"sk-item\"><div class=\"sk-estimator sk-toggleable\"><input class=\"sk-toggleable__control sk-hidden--visually\" id=\"sk-estimator-id-9\" type=\"checkbox\" ><label for=\"sk-estimator-id-9\" class=\"sk-toggleable__label sk-toggleable__label-arrow\">drop</label><div class=\"sk-toggleable__content\"><pre>drop</pre></div></div></div></div></div></div><div class=\"sk-parallel-item\"><div class=\"sk-item\"><div class=\"sk-label-container\"><div class=\"sk-label sk-toggleable\"><input class=\"sk-toggleable__control sk-hidden--visually\" id=\"sk-estimator-id-10\" type=\"checkbox\" ><label for=\"sk-estimator-id-10\" class=\"sk-toggleable__label sk-toggleable__label-arrow\">remainder</label><div class=\"sk-toggleable__content\"><pre>[&#x27;BALANCE&#x27;, &#x27;NB_PRODUITS&#x27;, &#x27;CARTE_CREDIT&#x27;, &#x27;SALAIRE&#x27;, &#x27;SCORE_CREDIT&#x27;, &#x27;SEXE&#x27;, &#x27;AGE&#x27;, &#x27;MEMBRE_ACTIF&#x27;, &#x27;balance_zero&#x27;]</pre></div></div></div><div class=\"sk-serial\"><div class=\"sk-item\"><div class=\"sk-estimator sk-toggleable\"><input class=\"sk-toggleable__control sk-hidden--visually\" id=\"sk-estimator-id-11\" type=\"checkbox\" ><label for=\"sk-estimator-id-11\" class=\"sk-toggleable__label sk-toggleable__label-arrow\">passthrough</label><div class=\"sk-toggleable__content\"><pre>passthrough</pre></div></div></div></div></div></div></div></div></div></div><div class=\"sk-item\"><div class=\"sk-estimator sk-toggleable\"><input class=\"sk-toggleable__control sk-hidden--visually\" id=\"sk-estimator-id-12\" type=\"checkbox\" ><label for=\"sk-estimator-id-12\" class=\"sk-toggleable__label sk-toggleable__label-arrow\">ExplainableBoostingClassifier</label><div class=\"sk-toggleable__content\"><pre>ExplainableBoostingClassifier(early_stopping_tolerance=0.024552803068263646,\n",
       "                              feature_names=[&#x27;feature_0001&#x27;, &#x27;feature_0002&#x27;,\n",
       "                                             &#x27;feature_0003&#x27;, &#x27;feature_0004&#x27;,\n",
       "                                             &#x27;feature_0005&#x27;, &#x27;feature_0006&#x27;,\n",
       "                                             &#x27;feature_0007&#x27;, &#x27;feature_0008&#x27;,\n",
       "                                             &#x27;feature_0009&#x27;, &#x27;feature_0010&#x27;,\n",
       "                                             &#x27;feature_0011&#x27;, &#x27;feature_0012&#x27;,\n",
       "                                             &#x27;feature_0010 x feature_0011&#x27;,\n",
       "                                             &#x27;feature_0005 x feature_0012&#x27;,\n",
       "                                             &#x27;feature_0001 x feature_0...\n",
       "                              feature_types=[&#x27;categorical&#x27;, &#x27;categorical&#x27;,\n",
       "                                             &#x27;categorical&#x27;, &#x27;continuous&#x27;,\n",
       "                                             &#x27;continuous&#x27;, &#x27;categorical&#x27;,\n",
       "                                             &#x27;continuous&#x27;, &#x27;continuous&#x27;,\n",
       "                                             &#x27;categorical&#x27;, &#x27;continuous&#x27;,\n",
       "                                             &#x27;categorical&#x27;, &#x27;categorical&#x27;,\n",
       "                                             &#x27;interaction&#x27;, &#x27;interaction&#x27;,\n",
       "                                             &#x27;interaction&#x27;, &#x27;interaction&#x27;,\n",
       "                                             &#x27;interaction&#x27;, &#x27;interaction&#x27;,\n",
       "                                             &#x27;interaction&#x27;, &#x27;interaction&#x27;,\n",
       "                                             &#x27;interaction&#x27;, &#x27;interaction&#x27;],\n",
       "                              learning_rate=0.09501688225703216, outer_bags=10)</pre></div></div></div></div></div></div></div></div></div></div></div></div>"
      ],
      "text/plain": [
       "ChurnModelSelection(pipe=Pipeline(steps=[('features',\n",
       "                                          Pipeline(steps=[('imputer',\n",
       "                                                           FeaturesImputer(balance_imputation='mean', balance_zero=True)),\n",
       "                                                          ('col_transform',\n",
       "                                                           ColumnTransformer(remainder='passthrough',\n",
       "                                                                             transformers=[('onehotencoder',\n",
       "                                                                                            OneHotEncoder(handle_unknown='ignore'),\n",
       "                                                                                            ['PAYS']),\n",
       "                                                                                           ('drop',\n",
       "                                                                                            'drop',\n",
       "                                                                                            ['NOM',\n",
       "                                                                                             'DATE_ENTREE'])]))])),\n",
       "                                         ('classifier',\n",
       "                                          Explainable...\n",
       "                                                                        feature_types=['categorical',\n",
       "                                                                                       'categorical',\n",
       "                                                                                       'categorical',\n",
       "                                                                                       'continuous',\n",
       "                                                                                       'continuous',\n",
       "                                                                                       'categorical',\n",
       "                                                                                       'continuous',\n",
       "                                                                                       'continuous',\n",
       "                                                                                       'categorical',\n",
       "                                                                                       'continuous',\n",
       "                                                                                       'categorical',\n",
       "                                                                                       'categorical',\n",
       "                                                                                       'interaction',\n",
       "                                                                                       'interaction',\n",
       "                                                                                       'interaction',\n",
       "                                                                                       'interaction',\n",
       "                                                                                       'interaction',\n",
       "                                                                                       'interaction',\n",
       "                                                                                       'interaction',\n",
       "                                                                                       'interaction',\n",
       "                                                                                       'interaction',\n",
       "                                                                                       'interaction'],\n",
       "                                                                        learning_rate=0.09501688225703216,\n",
       "                                                                        outer_bags=10))]))"
      ]
     },
     "execution_count": 13,
     "metadata": {},
     "output_type": "execute_result"
    }
   ],
   "source": [
    "best_model = bayes_sch[scores.idxmax()].best_estimator_\n",
    "best_model"
   ]
  },
  {
   "cell_type": "code",
   "execution_count": 14,
   "id": "6bca901c",
   "metadata": {},
   "outputs": [
    {
     "data": {
      "text/plain": [
       "OrderedDict([('pipe__classifier__binning', 'quantile'),\n",
       "             ('pipe__classifier__early_stopping_tolerance',\n",
       "              0.024552803068263646),\n",
       "             ('pipe__classifier__learning_rate', 0.09501688225703216),\n",
       "             ('pipe__classifier__min_samples_leaf', 2),\n",
       "             ('pipe__classifier__outer_bags', 10),\n",
       "             ('pipe__features__imputer__balance_imputation', 'mean'),\n",
       "             ('pipe__features__imputer__balance_zero', True)])"
      ]
     },
     "execution_count": 14,
     "metadata": {},
     "output_type": "execute_result"
    }
   ],
   "source": [
    "bayes_sch[scores.idxmax()].best_params_"
   ]
  },
  {
   "cell_type": "markdown",
   "id": "9710c508",
   "metadata": {},
   "source": [
    "### Model performance"
   ]
  },
  {
   "cell_type": "code",
   "execution_count": 15,
   "id": "d5df12ac",
   "metadata": {},
   "outputs": [
    {
     "data": {
      "image/png": "[encoded data removed]",
      "text/plain": [
       "<Figure size 504x360 with 1 Axes>"
      ]
     },
     "metadata": {
      "needs_background": "light"
     },
     "output_type": "display_data"
    }
   ],
   "source": [
    "from sklearn.metrics import (precision_recall_curve,\n",
    "                             PrecisionRecallDisplay)\n",
    "\n",
    "f, ax = plt.subplots(figsize=(7,5))\n",
    "\n",
    "for model_id, model in bayes_sch.items():\n",
    "    \n",
    "    predictions = model.best_estimator_.pipe.predict_proba(X_test)[:,1]\n",
    "    precision, recall, _ = precision_recall_curve(y_test, predictions)\n",
    "\n",
    "    ax.plot(recall, precision, label=model_id)\n",
    "\n",
    "ax.set_ylabel(\"precision\")\n",
    "ax.set_xlabel(\"recall\")\n",
    "ax.grid()\n",
    "ax.legend()\n",
    "ax.set_title(\"Precision/Recall curve for 3 models on test set\")\n",
    "plt.show()\n"
   ]
  },
  {
   "cell_type": "code",
   "execution_count": 16,
   "id": "0a5b5414",
   "metadata": {},
   "outputs": [
    {
     "data": {
      "text/html": [
       "<div>\n",
       "<style scoped>\n",
       "    .dataframe tbody tr th:only-of-type {\n",
       "        vertical-align: middle;\n",
       "    }\n",
       "\n",
       "    .dataframe tbody tr th {\n",
       "        vertical-align: top;\n",
       "    }\n",
       "\n",
       "    .dataframe thead th {\n",
       "        text-align: right;\n",
       "    }\n",
       "</style>\n",
       "<table border=\"1\" class=\"dataframe\">\n",
       "  <thead>\n",
       "    <tr style=\"text-align: right;\">\n",
       "      <th></th>\n",
       "      <th>accuracy_score</th>\n",
       "      <th>f1_score</th>\n",
       "      <th>precision_score</th>\n",
       "      <th>recall_score</th>\n",
       "    </tr>\n",
       "  </thead>\n",
       "  <tbody>\n",
       "    <tr>\n",
       "      <th>global</th>\n",
       "      <td>0.871357</td>\n",
       "      <td>0.634286</td>\n",
       "      <td>0.795699</td>\n",
       "      <td>0.527316</td>\n",
       "    </tr>\n",
       "    <tr>\n",
       "      <th>Allemagne</th>\n",
       "      <td>0.823647</td>\n",
       "      <td>0.717949</td>\n",
       "      <td>0.805755</td>\n",
       "      <td>0.647399</td>\n",
       "    </tr>\n",
       "    <tr>\n",
       "      <th>Espagne</th>\n",
       "      <td>0.887352</td>\n",
       "      <td>0.536585</td>\n",
       "      <td>0.733333</td>\n",
       "      <td>0.423077</td>\n",
       "    </tr>\n",
       "    <tr>\n",
       "      <th>France</th>\n",
       "      <td>0.887310</td>\n",
       "      <td>0.581132</td>\n",
       "      <td>0.810526</td>\n",
       "      <td>0.452941</td>\n",
       "    </tr>\n",
       "    <tr>\n",
       "      <th>balance &gt; 0</th>\n",
       "      <td>0.855686</td>\n",
       "      <td>0.648855</td>\n",
       "      <td>0.817308</td>\n",
       "      <td>0.537975</td>\n",
       "    </tr>\n",
       "    <tr>\n",
       "      <th>balance = 0</th>\n",
       "      <td>0.899301</td>\n",
       "      <td>0.590909</td>\n",
       "      <td>0.732394</td>\n",
       "      <td>0.495238</td>\n",
       "    </tr>\n",
       "  </tbody>\n",
       "</table>\n",
       "</div>"
      ],
      "text/plain": [
       "             accuracy_score  f1_score  precision_score  recall_score\n",
       "global             0.871357  0.634286         0.795699      0.527316\n",
       "Allemagne          0.823647  0.717949         0.805755      0.647399\n",
       "Espagne            0.887352  0.536585         0.733333      0.423077\n",
       "France             0.887310  0.581132         0.810526      0.452941\n",
       "balance > 0        0.855686  0.648855         0.817308      0.537975\n",
       "balance = 0        0.899301  0.590909         0.732394      0.495238"
      ]
     },
     "execution_count": 16,
     "metadata": {},
     "output_type": "execute_result"
    }
   ],
   "source": [
    "best_model.score_details(X_test, y_test)"
   ]
  },
  {
   "cell_type": "markdown",
   "id": "8977a65c",
   "metadata": {},
   "source": [
    "### Save model"
   ]
  },
  {
   "cell_type": "code",
   "execution_count": 17,
   "id": "156ba298",
   "metadata": {},
   "outputs": [
    {
     "data": {
      "text/plain": [
       "True"
      ]
     },
     "execution_count": 17,
     "metadata": {},
     "output_type": "execute_result"
    }
   ],
   "source": [
    "from churn.config.config import save_best_params_to_yaml\n",
    "\n",
    "save_best_params_to_yaml(path=\"../churn/config/latest_model.yml\",\n",
    "                         best_params=bayes_sch[scores.idxmax()].best_params_,\n",
    "                         model_name=f\"{best_model.pipe['classifier'].__class__.__name__}()\")"
   ]
  }
 ],
 "metadata": {
  "kernelspec": {
   "display_name": "base",
   "language": "python",
   "name": "base"
  },
  "language_info": {
   "codemirror_mode": {
    "name": "ipython",
    "version": 3
   },
   "file_extension": ".py",
   "mimetype": "text/x-python",
   "name": "python",
   "nbconvert_exporter": "python",
   "pygments_lexer": "ipython3",
   "version": "3.9.13"
  }
 },
 "nbformat": 4,
 "nbformat_minor": 5
}
